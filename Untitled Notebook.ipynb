{
 "cells": [
  {
   "cell_type": "code",
   "execution_count": 1,
   "metadata": {
    "collapsed": true
   },
   "outputs": [],
   "source": [
    "import gcp.bigquery as bq\n",
    "import pandas as pd\n",
    "import numpy as np"
   ]
  },
  {
   "cell_type": "code",
   "execution_count": 2,
   "metadata": {
    "collapsed": false
   },
   "outputs": [
    {
     "data": {
      "text/html": [
       "\n",
       "    <div class=\"bqsv\" id=\"1_146594490177\"></div>\n",
       "    <script>\n",
       "      require(['extensions/bigquery', 'element!1_146594490177', 'style!/static/extensions/bigquery.css'],\n",
       "        function(bq, dom) {\n",
       "          bq.renderSchema(dom, [{\"type\": \"TIMESTAMP\", \"name\": \"pickup_datetime\", \"mode\": \"NULLABLE\"}, {\"type\": \"TIMESTAMP\", \"name\": \"dropoff_datetime\", \"mode\": \"NULLABLE\"}, {\"type\": \"STRING\", \"name\": \"store_and_fwd_flag\", \"mode\": \"NULLABLE\"}, {\"type\": \"INTEGER\", \"name\": \"rate_code\", \"mode\": \"NULLABLE\"}, {\"type\": \"FLOAT\", \"name\": \"pickup_longitude\", \"mode\": \"NULLABLE\"}, {\"type\": \"FLOAT\", \"name\": \"pickup_latitude\", \"mode\": \"NULLABLE\"}, {\"type\": \"FLOAT\", \"name\": \"dropoff_longitude\", \"mode\": \"NULLABLE\"}, {\"type\": \"FLOAT\", \"name\": \"dropoff_latitude\", \"mode\": \"NULLABLE\"}, {\"type\": \"INTEGER\", \"name\": \"passenger_count\", \"mode\": \"NULLABLE\"}, {\"type\": \"FLOAT\", \"name\": \"trip_distance\", \"mode\": \"NULLABLE\"}, {\"type\": \"FLOAT\", \"name\": \"fare_amount\", \"mode\": \"NULLABLE\"}, {\"type\": \"FLOAT\", \"name\": \"extra\", \"mode\": \"NULLABLE\"}, {\"type\": \"FLOAT\", \"name\": \"mta_tax\", \"mode\": \"NULLABLE\"}, {\"type\": \"FLOAT\", \"name\": \"tip_amount\", \"mode\": \"NULLABLE\"}, {\"type\": \"FLOAT\", \"name\": \"tolls_amount\", \"mode\": \"NULLABLE\"}, {\"type\": \"FLOAT\", \"name\": \"ehail_fee\", \"mode\": \"NULLABLE\"}, {\"type\": \"FLOAT\", \"name\": \"total_amount\", \"mode\": \"NULLABLE\"}, {\"type\": \"INTEGER\", \"name\": \"payment_type\", \"mode\": \"NULLABLE\"}, {\"type\": \"FLOAT\", \"name\": \"distance_between_service\", \"mode\": \"NULLABLE\"}, {\"type\": \"INTEGER\", \"name\": \"time_between_service\", \"mode\": \"NULLABLE\"}, {\"type\": \"INTEGER\", \"name\": \"trip_type\", \"mode\": \"NULLABLE\"}]);\n",
       "        }\n",
       "      );\n",
       "    </script>\n",
       "    "
      ],
      "text/plain": [
       "<IPython.core.display.HTML object>"
      ]
     },
     "execution_count": 2,
     "metadata": {},
     "output_type": "execute_result"
    }
   ],
   "source": [
    "%%bigquery schema --table \"nyc-tlc:green.trips_2015\""
   ]
  },
  {
   "cell_type": "code",
   "execution_count": 3,
   "metadata": {
    "collapsed": false
   },
   "outputs": [
    {
     "data": {
      "text/html": [
       "\n",
       "    <div class=\"bqtv\" id=\"2_146594499921\"><table><tr><th>daynumber</th></tr><tr><td>120</td></tr><tr><td>120</td></tr><tr><td>120</td></tr><tr><td>149</td></tr><tr><td>150</td></tr><tr><td>150</td></tr><tr><td>150</td></tr><tr><td>89</td></tr><tr><td>89</td></tr><tr><td>89</td></tr></table></div>\n",
       "    <br />(rows: 10, time: 1.1s,    79MB processed, job: job_X5zYLvBpciz8vmBVVElpJQLLPT8)<br />\n",
       "    <script>\n",
       "      require(['extensions/charting', 'element!2_146594499921', 'style!/static/extensions/charting.css'],\n",
       "        function(charts, dom) {\n",
       "          charts.render(dom,\n",
       "            {\n",
       "              chartStyle:\"table\",\n",
       "              dataName:\"0\",\n",
       "              fields:\"daynumber\",\n",
       "              totalRows:10,\n",
       "              rowsPerPage:25,\n",
       "            }, {}, {\"rows\": [{\"c\": [{\"v\": 120}]}, {\"c\": [{\"v\": 120}]}, {\"c\": [{\"v\": 120}]}, {\"c\": [{\"v\": 149}]}, {\"c\": [{\"v\": 150}]}, {\"c\": [{\"v\": 150}]}, {\"c\": [{\"v\": 150}]}, {\"c\": [{\"v\": 89}]}, {\"c\": [{\"v\": 89}]}, {\"c\": [{\"v\": 89}]}], \"cols\": [{\"type\": \"number\", \"id\": \"daynumber\", \"label\": \"daynumber\"}]});\n",
       "        }\n",
       "      );\n",
       "    </script>\n",
       "  "
      ],
      "text/plain": [
       "QueryResultsTable job_X5zYLvBpciz8vmBVVElpJQLLPT8"
      ]
     },
     "execution_count": 3,
     "metadata": {},
     "output_type": "execute_result"
    }
   ],
   "source": [
    "%%sql\n",
    "SELECT DAYOFYEAR(pickup_datetime) AS daynumber FROM [nyc-tlc:green.trips_2015] LIMIT 10"
   ]
  },
  {
   "cell_type": "code",
   "execution_count": 4,
   "metadata": {
    "collapsed": true
   },
   "outputs": [],
   "source": [
    "%%sql --module taxiquery\n",
    "SELECT daynumber, COUNT(*) AS numtrips FROM\n",
    "    (SELECT DAYOFYEAR(pickup_datetime) AS daynumber FROM [nyc-tlc:green.trips_$YEAR])\n",
    "GROUP BY daynumber ORDER BY daynumber"
   ]
  },
  {
   "cell_type": "code",
   "execution_count": 5,
   "metadata": {
    "collapsed": false
   },
   "outputs": [
    {
     "data": {
      "text/html": [
       "<div>\n",
       "<table border=\"1\" class=\"dataframe\">\n",
       "  <thead>\n",
       "    <tr style=\"text-align: right;\">\n",
       "      <th></th>\n",
       "      <th>daynumber</th>\n",
       "      <th>numtrips</th>\n",
       "    </tr>\n",
       "  </thead>\n",
       "  <tbody>\n",
       "    <tr>\n",
       "      <th>0</th>\n",
       "      <td>1</td>\n",
       "      <td>62943</td>\n",
       "    </tr>\n",
       "    <tr>\n",
       "      <th>1</th>\n",
       "      <td>2</td>\n",
       "      <td>43410</td>\n",
       "    </tr>\n",
       "    <tr>\n",
       "      <th>2</th>\n",
       "      <td>3</td>\n",
       "      <td>53866</td>\n",
       "    </tr>\n",
       "    <tr>\n",
       "      <th>3</th>\n",
       "      <td>4</td>\n",
       "      <td>41602</td>\n",
       "    </tr>\n",
       "    <tr>\n",
       "      <th>4</th>\n",
       "      <td>5</td>\n",
       "      <td>41923</td>\n",
       "    </tr>\n",
       "  </tbody>\n",
       "</table>\n",
       "</div>"
      ],
      "text/plain": [
       "   daynumber  numtrips\n",
       "0          1     62943\n",
       "1          2     43410\n",
       "2          3     53866\n",
       "3          4     41602\n",
       "4          5     41923"
      ]
     },
     "execution_count": 5,
     "metadata": {},
     "output_type": "execute_result"
    }
   ],
   "source": [
    "trips = bq.Query(taxiquery, YEAR=2015).to_dataframe()\n",
    "trips[:5]"
   ]
  },
  {
   "cell_type": "code",
   "execution_count": 6,
   "metadata": {
    "collapsed": false
   },
   "outputs": [
    {
     "name": "stdout",
     "output_type": "stream",
     "text": [
      "Just using average=54674.0994475 has RMSE of 10163.4654442\n"
     ]
    }
   ],
   "source": [
    "avg = np.mean(trips['numtrips'])\n",
    "print 'Just using average={0} has RMSE of {1}'.format(avg, np.sqrt(np.mean((trips['numtrips'] - avg)**2)))"
   ]
  },
  {
   "cell_type": "code",
   "execution_count": 7,
   "metadata": {
    "collapsed": false
   },
   "outputs": [
    {
     "data": {
      "text/html": [
       "\n",
       "    <div class=\"bqtv\" id=\"3_146594536589\"><table><tr><th>usaf</th><th>wban</th><th>name</th><th>country</th><th>fips</th><th>state</th><th>call</th><th>lat</th><th>lon</th><th>elev</th><th>begin</th><th>end</th></tr><tr><td>725030</td><td>14732</td><td>NEW YORK/LA GUARDIA</td><td>US</td><td>US</td><td>NY</td><td>KLGA</td><td>40779.0</td><td>-73880.0</td><td>94</td><td>19350222</td><td>20120619</td></tr></table></div>\n",
       "    <br />(rows: 1, time: 1.5s,     2MB processed, job: job_zUkurjjvixwHaXeI8NCTT1_RnHU)<br />\n",
       "    <script>\n",
       "      require(['extensions/charting', 'element!3_146594536589', 'style!/static/extensions/charting.css'],\n",
       "        function(charts, dom) {\n",
       "          charts.render(dom,\n",
       "            {\n",
       "              chartStyle:\"table\",\n",
       "              dataName:\"1\",\n",
       "              fields:\"usaf,wban,name,country,fips,state,call,lat,lon,elev,begin,end\",\n",
       "              totalRows:1,\n",
       "              rowsPerPage:25,\n",
       "            }, {}, {\"rows\": [{\"c\": [{\"v\": \"725030\"}, {\"v\": \"14732\"}, {\"v\": \"NEW YORK/LA GUARDIA\"}, {\"v\": \"US\"}, {\"v\": \"US\"}, {\"v\": \"NY\"}, {\"v\": \"KLGA\"}, {\"v\": 40779.0}, {\"v\": -73880.0}, {\"v\": \"94\"}, {\"v\": \"19350222\"}, {\"v\": \"20120619\"}]}], \"cols\": [{\"type\": \"string\", \"id\": \"usaf\", \"label\": \"usaf\"}, {\"type\": \"string\", \"id\": \"wban\", \"label\": \"wban\"}, {\"type\": \"string\", \"id\": \"name\", \"label\": \"name\"}, {\"type\": \"string\", \"id\": \"country\", \"label\": \"country\"}, {\"type\": \"string\", \"id\": \"fips\", \"label\": \"fips\"}, {\"type\": \"string\", \"id\": \"state\", \"label\": \"state\"}, {\"type\": \"string\", \"id\": \"call\", \"label\": \"call\"}, {\"type\": \"number\", \"id\": \"lat\", \"label\": \"lat\"}, {\"type\": \"number\", \"id\": \"lon\", \"label\": \"lon\"}, {\"type\": \"string\", \"id\": \"elev\", \"label\": \"elev\"}, {\"type\": \"string\", \"id\": \"begin\", \"label\": \"begin\"}, {\"type\": \"string\", \"id\": \"end\", \"label\": \"end\"}]});\n",
       "        }\n",
       "      );\n",
       "    </script>\n",
       "  "
      ],
      "text/plain": [
       "QueryResultsTable job_zUkurjjvixwHaXeI8NCTT1_RnHU"
      ]
     },
     "execution_count": 7,
     "metadata": {},
     "output_type": "execute_result"
    }
   ],
   "source": [
    "%%sql\n",
    "SELECT * FROM [fh-bigquery:weather_gsod.stations]\n",
    "WHERE state = 'NY' AND wban != '99999' AND name contains 'LA GUARDIA'"
   ]
  },
  {
   "cell_type": "code",
   "execution_count": 8,
   "metadata": {
    "collapsed": true
   },
   "outputs": [],
   "source": [
    "%%sql --module wxquery\n",
    "SELECT DAYOFYEAR(TIMESTAMP('$YEAR'+mo+da)) daynumber,\n",
    "       FIRST(DAYOFWEEK(TIMESTAMP('$YEAR'+mo+da))) dayofweek,\n",
    "       MIN(min) mintemp, MAX(max) maxtemp, MAX(IF(prcp=99.99,0,prcp)) rain\n",
    "FROM [fh-bigquery:weather_gsod.gsod$YEAR]\n",
    "WHERE stn='725030' GROUP BY 1 ORDER BY daynumber DESC"
   ]
  },
  {
   "cell_type": "code",
   "execution_count": 9,
   "metadata": {
    "collapsed": false
   },
   "outputs": [
    {
     "data": {
      "text/html": [
       "<div>\n",
       "<table border=\"1\" class=\"dataframe\">\n",
       "  <thead>\n",
       "    <tr style=\"text-align: right;\">\n",
       "      <th></th>\n",
       "      <th>daynumber</th>\n",
       "      <th>dayofweek</th>\n",
       "      <th>mintemp</th>\n",
       "      <th>maxtemp</th>\n",
       "      <th>rain</th>\n",
       "    </tr>\n",
       "  </thead>\n",
       "  <tbody>\n",
       "    <tr>\n",
       "      <th>0</th>\n",
       "      <td>365</td>\n",
       "      <td>5</td>\n",
       "      <td>46.0</td>\n",
       "      <td>48.2</td>\n",
       "      <td>0.17</td>\n",
       "    </tr>\n",
       "    <tr>\n",
       "      <th>1</th>\n",
       "      <td>364</td>\n",
       "      <td>4</td>\n",
       "      <td>34.0</td>\n",
       "      <td>48.0</td>\n",
       "      <td>0.13</td>\n",
       "    </tr>\n",
       "    <tr>\n",
       "      <th>2</th>\n",
       "      <td>363</td>\n",
       "      <td>3</td>\n",
       "      <td>33.8</td>\n",
       "      <td>46.9</td>\n",
       "      <td>0.37</td>\n",
       "    </tr>\n",
       "    <tr>\n",
       "      <th>3</th>\n",
       "      <td>362</td>\n",
       "      <td>2</td>\n",
       "      <td>39.0</td>\n",
       "      <td>62.1</td>\n",
       "      <td>0.02</td>\n",
       "    </tr>\n",
       "    <tr>\n",
       "      <th>4</th>\n",
       "      <td>361</td>\n",
       "      <td>1</td>\n",
       "      <td>46.0</td>\n",
       "      <td>62.6</td>\n",
       "      <td>0.14</td>\n",
       "    </tr>\n",
       "  </tbody>\n",
       "</table>\n",
       "</div>"
      ],
      "text/plain": [
       "   daynumber  dayofweek  mintemp  maxtemp  rain\n",
       "0        365          5     46.0     48.2  0.17\n",
       "1        364          4     34.0     48.0  0.13\n",
       "2        363          3     33.8     46.9  0.37\n",
       "3        362          2     39.0     62.1  0.02\n",
       "4        361          1     46.0     62.6  0.14"
      ]
     },
     "execution_count": 9,
     "metadata": {},
     "output_type": "execute_result"
    }
   ],
   "source": [
    "weather = bq.Query(wxquery, YEAR=2015).to_dataframe()\n",
    "weather[:5]"
   ]
  },
  {
   "cell_type": "code",
   "execution_count": 10,
   "metadata": {
    "collapsed": false
   },
   "outputs": [
    {
     "data": {
      "text/html": [
       "<div>\n",
       "<table border=\"1\" class=\"dataframe\">\n",
       "  <thead>\n",
       "    <tr style=\"text-align: right;\">\n",
       "      <th></th>\n",
       "      <th>daynumber</th>\n",
       "      <th>dayofweek</th>\n",
       "      <th>mintemp</th>\n",
       "      <th>maxtemp</th>\n",
       "      <th>rain</th>\n",
       "      <th>numtrips</th>\n",
       "    </tr>\n",
       "  </thead>\n",
       "  <tbody>\n",
       "    <tr>\n",
       "      <th>0</th>\n",
       "      <td>181</td>\n",
       "      <td>3</td>\n",
       "      <td>64.0</td>\n",
       "      <td>82.0</td>\n",
       "      <td>0.00</td>\n",
       "      <td>42978</td>\n",
       "    </tr>\n",
       "    <tr>\n",
       "      <th>1</th>\n",
       "      <td>180</td>\n",
       "      <td>2</td>\n",
       "      <td>62.1</td>\n",
       "      <td>78.1</td>\n",
       "      <td>0.26</td>\n",
       "      <td>41397</td>\n",
       "    </tr>\n",
       "    <tr>\n",
       "      <th>2</th>\n",
       "      <td>179</td>\n",
       "      <td>1</td>\n",
       "      <td>60.1</td>\n",
       "      <td>73.9</td>\n",
       "      <td>1.32</td>\n",
       "      <td>54632</td>\n",
       "    </tr>\n",
       "    <tr>\n",
       "      <th>3</th>\n",
       "      <td>178</td>\n",
       "      <td>7</td>\n",
       "      <td>62.1</td>\n",
       "      <td>80.1</td>\n",
       "      <td>0.00</td>\n",
       "      <td>74883</td>\n",
       "    </tr>\n",
       "    <tr>\n",
       "      <th>4</th>\n",
       "      <td>177</td>\n",
       "      <td>6</td>\n",
       "      <td>69.1</td>\n",
       "      <td>84.9</td>\n",
       "      <td>0.00</td>\n",
       "      <td>58371</td>\n",
       "    </tr>\n",
       "  </tbody>\n",
       "</table>\n",
       "</div>"
      ],
      "text/plain": [
       "   daynumber  dayofweek  mintemp  maxtemp  rain  numtrips\n",
       "0        181          3     64.0     82.0  0.00     42978\n",
       "1        180          2     62.1     78.1  0.26     41397\n",
       "2        179          1     60.1     73.9  1.32     54632\n",
       "3        178          7     62.1     80.1  0.00     74883\n",
       "4        177          6     69.1     84.9  0.00     58371"
      ]
     },
     "execution_count": 10,
     "metadata": {},
     "output_type": "execute_result"
    }
   ],
   "source": [
    "data = pd.merge(weather, trips, on='daynumber')\n",
    "data[:5]"
   ]
  },
  {
   "cell_type": "code",
   "execution_count": 11,
   "metadata": {
    "collapsed": false
   },
   "outputs": [
    {
     "data": {
      "image/png": "[encoded data removed]",
      "text/plain": [
       "<matplotlib.figure.Figure at 0x7f2495525d50>"
      ]
     },
     "metadata": {},
     "output_type": "display_data"
    }
   ],
   "source": [
    "j = data.plot(kind='scatter', x='maxtemp', y='numtrips')"
   ]
  },
  {
   "cell_type": "code",
   "execution_count": 12,
   "metadata": {
    "collapsed": false
   },
   "outputs": [
    {
     "data": {
      "image/png": "[encoded data removed]",
      "text/plain": [
       "<matplotlib.figure.Figure at 0x7f2494da8ed0>"
      ]
     },
     "metadata": {},
     "output_type": "display_data"
    }
   ],
   "source": [
    "j = data.plot(kind='scatter', x='dayofweek', y='numtrips')"
   ]
  },
  {
   "cell_type": "code",
   "execution_count": null,
   "metadata": {
    "collapsed": true
   },
   "outputs": [],
   "source": []
  }
 ],
 "metadata": {
  "kernelspec": {
   "display_name": "Python 2",
   "language": "python",
   "name": "python2"
  },
  "language_info": {
   "codemirror_mode": {
    "name": "ipython",
    "version": 2
   },
   "file_extension": ".py",
   "mimetype": "text/x-python",
   "name": "python",
   "nbconvert_exporter": "python",
   "pygments_lexer": "ipython2",
   "version": "2.7.9"
  }
 },
 "nbformat": 4,
 "nbformat_minor": 0
}
